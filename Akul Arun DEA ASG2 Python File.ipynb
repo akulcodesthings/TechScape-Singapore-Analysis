{
 "cells": [
  {
   "cell_type": "code",
   "execution_count": 1,
   "id": "52b0540e",
   "metadata": {},
   "outputs": [],
   "source": [
    "# import the packages\n",
    "\n",
    "# General packages\n",
    "import pandas as pd\n",
    "import numpy as np\n",
    "\n",
    "# Data Loading and Exploration Packages\n",
    "import os\n",
    "import ipywidgets as widgets\n",
    "from IPython.display import display, clear_output"
   ]
  },
  {
   "cell_type": "code",
   "execution_count": 2,
   "id": "4c31be84",
   "metadata": {},
   "outputs": [],
   "source": [
    "folder_path = \"./data/data\"\n",
    "csv_files = [file for file in os.listdir(folder_path) if file.endswith('.csv')]\n",
    "\n",
    "dataframes = {}\n",
    "\n",
    "# Importing CSV Files\n",
    "for file in csv_files:\n",
    "    file_path = os.path.join(folder_path, file)\n",
    "    df_name = file.replace('.csv', '_df')\n",
    "    dataframes[df_name] = pd.read_csv(file_path)"
   ]
  },
  {
   "cell_type": "code",
   "execution_count": 3,
   "id": "4fbaef3c",
   "metadata": {},
   "outputs": [
    {
     "data": {
      "application/vnd.jupyter.widget-view+json": {
       "model_id": "1e9db46e377b47368c39c2b6c476ac6b",
       "version_major": 2,
       "version_minor": 0
      },
      "text/plain": [
       "VBox(children=(HBox(children=(Button(description='Channel_df', layout=Layout(height='50px', width='200px'), st…"
      ]
     },
     "metadata": {},
     "output_type": "display_data"
    },
    {
     "data": {
      "application/vnd.jupyter.widget-view+json": {
       "model_id": "fd8b72dc9c7348989a614af8e66ad871",
       "version_major": 2,
       "version_minor": 0
      },
      "text/plain": [
       "Output()"
      ]
     },
     "metadata": {},
     "output_type": "display_data"
    }
   ],
   "source": [
    "# Create buttons for each dataframe\n",
    "buttons = []\n",
    "output = widgets.Output()  # Create an output widget to display results\n",
    "\n",
    "def on_button_click(button):\n",
    "    with output:\n",
    "        clear_output()  # Clear previous output\n",
    "        for b in buttons:\n",
    "            if b == button:\n",
    "                b.button_style = 'success'\n",
    "            else:\n",
    "                b.button_style = ''\n",
    "        df = dataframes[button.description]\n",
    "        display(df.head(), df.info())\n",
    "        \n",
    "\n",
    "for key in dataframes.keys():\n",
    "    button = widgets.Button(description=key, layout=widgets.Layout(width='200px', height='50px'))\n",
    "    button.on_click(on_button_click)\n",
    "    buttons.append(button)\n",
    "\n",
    "# Arrange buttons in a specific layout\n",
    "rows = []\n",
    "row_buttons = []\n",
    "for i, button in enumerate(buttons):\n",
    "    row_buttons.append(button)\n",
    "    if len(row_buttons) == 4 or i == len(buttons) - 1:\n",
    "        rows.append(widgets.HBox(row_buttons))\n",
    "        row_buttons = []\n",
    "\n",
    "# Create the final layout \n",
    "layout = widgets.VBox(rows)\n",
    "\n",
    "# Display buttons and output\n",
    "display(layout)\n",
    "display(output)\n",
    "\n",
    "# Ignore Data Dictioonary_df"
   ]
  }
 ],
 "metadata": {
  "kernelspec": {
   "display_name": "Python 3 (ipykernel)",
   "language": "python",
   "name": "python3"
  },
  "language_info": {
   "codemirror_mode": {
    "name": "ipython",
    "version": 3
   },
   "file_extension": ".py",
   "mimetype": "text/x-python",
   "name": "python",
   "nbconvert_exporter": "python",
   "pygments_lexer": "ipython3",
   "version": "3.10.9"
  }
 },
 "nbformat": 4,
 "nbformat_minor": 5
}
